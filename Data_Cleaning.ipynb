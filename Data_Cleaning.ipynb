{
  "nbformat": 4,
  "nbformat_minor": 0,
  "metadata": {
    "colab": {
      "provenance": [],
      "authorship_tag": "ABX9TyOoWI+T42P5CKbKYurMsLbl"
    },
    "kernelspec": {
      "name": "python3",
      "display_name": "Python 3"
    },
    "language_info": {
      "name": "python"
    }
  },
  "cells": [
    {
      "cell_type": "markdown",
      "source": [
        "# **Data Cleaning in Pandas**"
      ],
      "metadata": {
        "id": "pA60t4O0bqFx"
      }
    },
    {
      "cell_type": "markdown",
      "source": [
        "Import Pandas"
      ],
      "metadata": {
        "id": "-PYCsIaJehPA"
      }
    },
    {
      "cell_type": "code",
      "execution_count": 29,
      "metadata": {
        "id": "Gjs4iGp8a340"
      },
      "outputs": [],
      "source": [
        "import pandas as pd"
      ]
    },
    {
      "cell_type": "markdown",
      "source": [
        "Load data and drop duplicates"
      ],
      "metadata": {
        "id": "MzRStQyocNEU"
      }
    },
    {
      "cell_type": "code",
      "source": [
        "df = pd.read_excel(r\"Customer Call List.xlsx\").drop_duplicates()"
      ],
      "metadata": {
        "id": "qdR7L3R1b_mf"
      },
      "execution_count": null,
      "outputs": []
    },
    {
      "cell_type": "markdown",
      "source": [
        "Drop unnecessary column and clean \"Last_Name\" column"
      ],
      "metadata": {
        "id": "mp453FgRcRfP"
      }
    },
    {
      "cell_type": "code",
      "source": [
        "df = df.drop(columns=\"Not_Useful_Column\")\n",
        "df[\"Last_Name\"] = df[\"Last_Name\"].str.strip(\"123._/\")"
      ],
      "metadata": {
        "id": "4nUEP2iecA-E"
      },
      "execution_count": null,
      "outputs": []
    },
    {
      "cell_type": "markdown",
      "source": [
        "Clean \"Phone_Number\" column"
      ],
      "metadata": {
        "id": "442i8UxWcmfz"
      }
    },
    {
      "cell_type": "code",
      "source": [
        "df[\"Phone_Number\"] = df[\"Phone_Number\"].str.replace('nan--','').str.replace('Na--','')"
      ],
      "metadata": {
        "id": "-58AHtaHcCT-"
      },
      "execution_count": null,
      "outputs": []
    },
    {
      "cell_type": "markdown",
      "source": [
        "Split \"Address\" column into separate columns"
      ],
      "metadata": {
        "id": "Qzfi9Eg8ctBm"
      }
    },
    {
      "cell_type": "code",
      "source": [
        "df[[\"Street_Address\", \"State\", \"Zip_Code\"]] = df[\"Address\"].str.split(',',2, expand=True)"
      ],
      "metadata": {
        "colab": {
          "base_uri": "https://localhost:8080/"
        },
        "id": "Cs4jodcAcDe1",
        "outputId": "9197a3ab-d416-4dc3-e965-549f53bcef12"
      },
      "execution_count": null,
      "outputs": [
        {
          "output_type": "stream",
          "name": "stderr",
          "text": [
            "<ipython-input-19-e7e90780752e>:1: FutureWarning: In a future version of pandas all arguments of StringMethods.split except for the argument 'pat' will be keyword-only.\n",
            "  df[[\"Street_Address\", \"State\", \"Zip_Code\"]] = df[\"Address\"].str.split(',',2, expand=True)\n"
          ]
        }
      ]
    },
    {
      "cell_type": "markdown",
      "source": [
        "Clean \"Do_Not_Contact\" column\n"
      ],
      "metadata": {
        "id": "bEyfSqyqcxrA"
      }
    },
    {
      "cell_type": "code",
      "source": [
        "df[\"Do_Not_Contact\"] = df[\"Do_Not_Contact\"].str.replace('Yes','Y').str.replace('No','N')"
      ],
      "metadata": {
        "id": "p3Gk1tuCcExQ"
      },
      "execution_count": null,
      "outputs": []
    },
    {
      "cell_type": "markdown",
      "source": [
        "Replace NaN values with empty string"
      ],
      "metadata": {
        "id": "FamWYWWFc2HN"
      }
    },
    {
      "cell_type": "code",
      "source": [
        "df = df.fillna('')"
      ],
      "metadata": {
        "id": "3_wr4yVXcFsT"
      },
      "execution_count": null,
      "outputs": []
    },
    {
      "cell_type": "markdown",
      "source": [
        "Drop rows based on conditions"
      ],
      "metadata": {
        "id": "3p_qs_lMc4ud"
      }
    },
    {
      "cell_type": "code",
      "source": [
        "\n",
        "df = df[(df[\"Do_Not_Contact\"] != 'Y') & (df[\"Phone_Number\"] != '')]"
      ],
      "metadata": {
        "id": "kGvkI69ZcG-a"
      },
      "execution_count": null,
      "outputs": []
    },
    {
      "cell_type": "markdown",
      "source": [
        "#**Reset index**"
      ],
      "metadata": {
        "id": "VL5TWW7Tc76T"
      }
    },
    {
      "cell_type": "code",
      "source": [
        "\n",
        "df = df.reset_index(drop=True)\n",
        "df"
      ],
      "metadata": {
        "colab": {
          "base_uri": "https://localhost:8080/",
          "height": 568
        },
        "id": "5NjfnLiocIOi",
        "outputId": "b1e7ed14-d1a4-4783-9107-fda1a6d86606"
      },
      "execution_count": null,
      "outputs": [
        {
          "output_type": "execute_result",
          "data": {
            "text/plain": [
              "    CustomerID First_Name   Last_Name  Phone_Number  \\\n",
              "0         1001      Frodo     Baggins  123-545-5421   \n",
              "1         1005        Jon        Snow  876|678|3469   \n",
              "2         1008   Sherlock      Holmes  876|678|3469   \n",
              "3         1009    Gandalf                       N/a   \n",
              "4         1010      Peter      Parker  123-545-5421   \n",
              "5         1013        Don      Draper  123-543-2345   \n",
              "6         1014     Leslie       Knope  876|678|3469   \n",
              "7         1015       Toby  Flenderson  304-762-2467   \n",
              "8         1016        Ron     Weasley  123-545-5421   \n",
              "9         1017   Michael        Scott  123/643/9775   \n",
              "10        1020     Anakin   Skywalker  876|678|3469   \n",
              "\n",
              "                           Address Paying Customer Do_Not_Contact  \\\n",
              "0            123 Shire Lane, Shire             Yes              N   \n",
              "1                 123 Dragons Road               Y              N   \n",
              "2                    98 Clue Drive               N              N   \n",
              "3                 123 Middle Earth             Yes                  \n",
              "4       25th Main Street, New York             Yes              N   \n",
              "5                 2039 Main Street             Yes              N   \n",
              "6                 343 City Parkway             Yes              N   \n",
              "7                    214 HR Avenue               N              N   \n",
              "8             2395 Hogwarts Avenue              No              N   \n",
              "9   121 Paper Avenue, Pennsylvania             Yes              N   \n",
              "10     910 Tatooine Road, Tatooine             Yes              N   \n",
              "\n",
              "          Street_Address          State Zip_Code  \n",
              "0         123 Shire Lane          Shire           \n",
              "1       123 Dragons Road                          \n",
              "2          98 Clue Drive                          \n",
              "3       123 Middle Earth                          \n",
              "4       25th Main Street       New York           \n",
              "5       2039 Main Street                          \n",
              "6       343 City Parkway                          \n",
              "7          214 HR Avenue                          \n",
              "8   2395 Hogwarts Avenue                          \n",
              "9       121 Paper Avenue   Pennsylvania           \n",
              "10     910 Tatooine Road       Tatooine           "
            ],
            "text/html": [
              "\n",
              "  <div id=\"df-4569f5f9-44ef-4352-92a4-2b480d5b9d5c\" class=\"colab-df-container\">\n",
              "    <div>\n",
              "<style scoped>\n",
              "    .dataframe tbody tr th:only-of-type {\n",
              "        vertical-align: middle;\n",
              "    }\n",
              "\n",
              "    .dataframe tbody tr th {\n",
              "        vertical-align: top;\n",
              "    }\n",
              "\n",
              "    .dataframe thead th {\n",
              "        text-align: right;\n",
              "    }\n",
              "</style>\n",
              "<table border=\"1\" class=\"dataframe\">\n",
              "  <thead>\n",
              "    <tr style=\"text-align: right;\">\n",
              "      <th></th>\n",
              "      <th>CustomerID</th>\n",
              "      <th>First_Name</th>\n",
              "      <th>Last_Name</th>\n",
              "      <th>Phone_Number</th>\n",
              "      <th>Address</th>\n",
              "      <th>Paying Customer</th>\n",
              "      <th>Do_Not_Contact</th>\n",
              "      <th>Street_Address</th>\n",
              "      <th>State</th>\n",
              "      <th>Zip_Code</th>\n",
              "    </tr>\n",
              "  </thead>\n",
              "  <tbody>\n",
              "    <tr>\n",
              "      <th>0</th>\n",
              "      <td>1001</td>\n",
              "      <td>Frodo</td>\n",
              "      <td>Baggins</td>\n",
              "      <td>123-545-5421</td>\n",
              "      <td>123 Shire Lane, Shire</td>\n",
              "      <td>Yes</td>\n",
              "      <td>N</td>\n",
              "      <td>123 Shire Lane</td>\n",
              "      <td>Shire</td>\n",
              "      <td></td>\n",
              "    </tr>\n",
              "    <tr>\n",
              "      <th>1</th>\n",
              "      <td>1005</td>\n",
              "      <td>Jon</td>\n",
              "      <td>Snow</td>\n",
              "      <td>876|678|3469</td>\n",
              "      <td>123 Dragons Road</td>\n",
              "      <td>Y</td>\n",
              "      <td>N</td>\n",
              "      <td>123 Dragons Road</td>\n",
              "      <td></td>\n",
              "      <td></td>\n",
              "    </tr>\n",
              "    <tr>\n",
              "      <th>2</th>\n",
              "      <td>1008</td>\n",
              "      <td>Sherlock</td>\n",
              "      <td>Holmes</td>\n",
              "      <td>876|678|3469</td>\n",
              "      <td>98 Clue Drive</td>\n",
              "      <td>N</td>\n",
              "      <td>N</td>\n",
              "      <td>98 Clue Drive</td>\n",
              "      <td></td>\n",
              "      <td></td>\n",
              "    </tr>\n",
              "    <tr>\n",
              "      <th>3</th>\n",
              "      <td>1009</td>\n",
              "      <td>Gandalf</td>\n",
              "      <td></td>\n",
              "      <td>N/a</td>\n",
              "      <td>123 Middle Earth</td>\n",
              "      <td>Yes</td>\n",
              "      <td></td>\n",
              "      <td>123 Middle Earth</td>\n",
              "      <td></td>\n",
              "      <td></td>\n",
              "    </tr>\n",
              "    <tr>\n",
              "      <th>4</th>\n",
              "      <td>1010</td>\n",
              "      <td>Peter</td>\n",
              "      <td>Parker</td>\n",
              "      <td>123-545-5421</td>\n",
              "      <td>25th Main Street, New York</td>\n",
              "      <td>Yes</td>\n",
              "      <td>N</td>\n",
              "      <td>25th Main Street</td>\n",
              "      <td>New York</td>\n",
              "      <td></td>\n",
              "    </tr>\n",
              "    <tr>\n",
              "      <th>5</th>\n",
              "      <td>1013</td>\n",
              "      <td>Don</td>\n",
              "      <td>Draper</td>\n",
              "      <td>123-543-2345</td>\n",
              "      <td>2039 Main Street</td>\n",
              "      <td>Yes</td>\n",
              "      <td>N</td>\n",
              "      <td>2039 Main Street</td>\n",
              "      <td></td>\n",
              "      <td></td>\n",
              "    </tr>\n",
              "    <tr>\n",
              "      <th>6</th>\n",
              "      <td>1014</td>\n",
              "      <td>Leslie</td>\n",
              "      <td>Knope</td>\n",
              "      <td>876|678|3469</td>\n",
              "      <td>343 City Parkway</td>\n",
              "      <td>Yes</td>\n",
              "      <td>N</td>\n",
              "      <td>343 City Parkway</td>\n",
              "      <td></td>\n",
              "      <td></td>\n",
              "    </tr>\n",
              "    <tr>\n",
              "      <th>7</th>\n",
              "      <td>1015</td>\n",
              "      <td>Toby</td>\n",
              "      <td>Flenderson</td>\n",
              "      <td>304-762-2467</td>\n",
              "      <td>214 HR Avenue</td>\n",
              "      <td>N</td>\n",
              "      <td>N</td>\n",
              "      <td>214 HR Avenue</td>\n",
              "      <td></td>\n",
              "      <td></td>\n",
              "    </tr>\n",
              "    <tr>\n",
              "      <th>8</th>\n",
              "      <td>1016</td>\n",
              "      <td>Ron</td>\n",
              "      <td>Weasley</td>\n",
              "      <td>123-545-5421</td>\n",
              "      <td>2395 Hogwarts Avenue</td>\n",
              "      <td>No</td>\n",
              "      <td>N</td>\n",
              "      <td>2395 Hogwarts Avenue</td>\n",
              "      <td></td>\n",
              "      <td></td>\n",
              "    </tr>\n",
              "    <tr>\n",
              "      <th>9</th>\n",
              "      <td>1017</td>\n",
              "      <td>Michael</td>\n",
              "      <td>Scott</td>\n",
              "      <td>123/643/9775</td>\n",
              "      <td>121 Paper Avenue, Pennsylvania</td>\n",
              "      <td>Yes</td>\n",
              "      <td>N</td>\n",
              "      <td>121 Paper Avenue</td>\n",
              "      <td>Pennsylvania</td>\n",
              "      <td></td>\n",
              "    </tr>\n",
              "    <tr>\n",
              "      <th>10</th>\n",
              "      <td>1020</td>\n",
              "      <td>Anakin</td>\n",
              "      <td>Skywalker</td>\n",
              "      <td>876|678|3469</td>\n",
              "      <td>910 Tatooine Road, Tatooine</td>\n",
              "      <td>Yes</td>\n",
              "      <td>N</td>\n",
              "      <td>910 Tatooine Road</td>\n",
              "      <td>Tatooine</td>\n",
              "      <td></td>\n",
              "    </tr>\n",
              "  </tbody>\n",
              "</table>\n",
              "</div>\n",
              "    <div class=\"colab-df-buttons\">\n",
              "\n",
              "  <div class=\"colab-df-container\">\n",
              "    <button class=\"colab-df-convert\" onclick=\"convertToInteractive('df-4569f5f9-44ef-4352-92a4-2b480d5b9d5c')\"\n",
              "            title=\"Convert this dataframe to an interactive table.\"\n",
              "            style=\"display:none;\">\n",
              "\n",
              "  <svg xmlns=\"http://www.w3.org/2000/svg\" height=\"24px\" viewBox=\"0 -960 960 960\">\n",
              "    <path d=\"M120-120v-720h720v720H120Zm60-500h600v-160H180v160Zm220 220h160v-160H400v160Zm0 220h160v-160H400v160ZM180-400h160v-160H180v160Zm440 0h160v-160H620v160ZM180-180h160v-160H180v160Zm440 0h160v-160H620v160Z\"/>\n",
              "  </svg>\n",
              "    </button>\n",
              "\n",
              "  <style>\n",
              "    .colab-df-container {\n",
              "      display:flex;\n",
              "      gap: 12px;\n",
              "    }\n",
              "\n",
              "    .colab-df-convert {\n",
              "      background-color: #E8F0FE;\n",
              "      border: none;\n",
              "      border-radius: 50%;\n",
              "      cursor: pointer;\n",
              "      display: none;\n",
              "      fill: #1967D2;\n",
              "      height: 32px;\n",
              "      padding: 0 0 0 0;\n",
              "      width: 32px;\n",
              "    }\n",
              "\n",
              "    .colab-df-convert:hover {\n",
              "      background-color: #E2EBFA;\n",
              "      box-shadow: 0px 1px 2px rgba(60, 64, 67, 0.3), 0px 1px 3px 1px rgba(60, 64, 67, 0.15);\n",
              "      fill: #174EA6;\n",
              "    }\n",
              "\n",
              "    .colab-df-buttons div {\n",
              "      margin-bottom: 4px;\n",
              "    }\n",
              "\n",
              "    [theme=dark] .colab-df-convert {\n",
              "      background-color: #3B4455;\n",
              "      fill: #D2E3FC;\n",
              "    }\n",
              "\n",
              "    [theme=dark] .colab-df-convert:hover {\n",
              "      background-color: #434B5C;\n",
              "      box-shadow: 0px 1px 3px 1px rgba(0, 0, 0, 0.15);\n",
              "      filter: drop-shadow(0px 1px 2px rgba(0, 0, 0, 0.3));\n",
              "      fill: #FFFFFF;\n",
              "    }\n",
              "  </style>\n",
              "\n",
              "    <script>\n",
              "      const buttonEl =\n",
              "        document.querySelector('#df-4569f5f9-44ef-4352-92a4-2b480d5b9d5c button.colab-df-convert');\n",
              "      buttonEl.style.display =\n",
              "        google.colab.kernel.accessAllowed ? 'block' : 'none';\n",
              "\n",
              "      async function convertToInteractive(key) {\n",
              "        const element = document.querySelector('#df-4569f5f9-44ef-4352-92a4-2b480d5b9d5c');\n",
              "        const dataTable =\n",
              "          await google.colab.kernel.invokeFunction('convertToInteractive',\n",
              "                                                    [key], {});\n",
              "        if (!dataTable) return;\n",
              "\n",
              "        const docLinkHtml = 'Like what you see? Visit the ' +\n",
              "          '<a target=\"_blank\" href=https://colab.research.google.com/notebooks/data_table.ipynb>data table notebook</a>'\n",
              "          + ' to learn more about interactive tables.';\n",
              "        element.innerHTML = '';\n",
              "        dataTable['output_type'] = 'display_data';\n",
              "        await google.colab.output.renderOutput(dataTable, element);\n",
              "        const docLink = document.createElement('div');\n",
              "        docLink.innerHTML = docLinkHtml;\n",
              "        element.appendChild(docLink);\n",
              "      }\n",
              "    </script>\n",
              "  </div>\n",
              "\n",
              "\n",
              "<div id=\"df-b97dc840-42f4-4065-888c-a54ce0b4c35a\">\n",
              "  <button class=\"colab-df-quickchart\" onclick=\"quickchart('df-b97dc840-42f4-4065-888c-a54ce0b4c35a')\"\n",
              "            title=\"Suggest charts\"\n",
              "            style=\"display:none;\">\n",
              "\n",
              "<svg xmlns=\"http://www.w3.org/2000/svg\" height=\"24px\"viewBox=\"0 0 24 24\"\n",
              "     width=\"24px\">\n",
              "    <g>\n",
              "        <path d=\"M19 3H5c-1.1 0-2 .9-2 2v14c0 1.1.9 2 2 2h14c1.1 0 2-.9 2-2V5c0-1.1-.9-2-2-2zM9 17H7v-7h2v7zm4 0h-2V7h2v10zm4 0h-2v-4h2v4z\"/>\n",
              "    </g>\n",
              "</svg>\n",
              "  </button>\n",
              "\n",
              "<style>\n",
              "  .colab-df-quickchart {\n",
              "      --bg-color: #E8F0FE;\n",
              "      --fill-color: #1967D2;\n",
              "      --hover-bg-color: #E2EBFA;\n",
              "      --hover-fill-color: #174EA6;\n",
              "      --disabled-fill-color: #AAA;\n",
              "      --disabled-bg-color: #DDD;\n",
              "  }\n",
              "\n",
              "  [theme=dark] .colab-df-quickchart {\n",
              "      --bg-color: #3B4455;\n",
              "      --fill-color: #D2E3FC;\n",
              "      --hover-bg-color: #434B5C;\n",
              "      --hover-fill-color: #FFFFFF;\n",
              "      --disabled-bg-color: #3B4455;\n",
              "      --disabled-fill-color: #666;\n",
              "  }\n",
              "\n",
              "  .colab-df-quickchart {\n",
              "    background-color: var(--bg-color);\n",
              "    border: none;\n",
              "    border-radius: 50%;\n",
              "    cursor: pointer;\n",
              "    display: none;\n",
              "    fill: var(--fill-color);\n",
              "    height: 32px;\n",
              "    padding: 0;\n",
              "    width: 32px;\n",
              "  }\n",
              "\n",
              "  .colab-df-quickchart:hover {\n",
              "    background-color: var(--hover-bg-color);\n",
              "    box-shadow: 0 1px 2px rgba(60, 64, 67, 0.3), 0 1px 3px 1px rgba(60, 64, 67, 0.15);\n",
              "    fill: var(--button-hover-fill-color);\n",
              "  }\n",
              "\n",
              "  .colab-df-quickchart-complete:disabled,\n",
              "  .colab-df-quickchart-complete:disabled:hover {\n",
              "    background-color: var(--disabled-bg-color);\n",
              "    fill: var(--disabled-fill-color);\n",
              "    box-shadow: none;\n",
              "  }\n",
              "\n",
              "  .colab-df-spinner {\n",
              "    border: 2px solid var(--fill-color);\n",
              "    border-color: transparent;\n",
              "    border-bottom-color: var(--fill-color);\n",
              "    animation:\n",
              "      spin 1s steps(1) infinite;\n",
              "  }\n",
              "\n",
              "  @keyframes spin {\n",
              "    0% {\n",
              "      border-color: transparent;\n",
              "      border-bottom-color: var(--fill-color);\n",
              "      border-left-color: var(--fill-color);\n",
              "    }\n",
              "    20% {\n",
              "      border-color: transparent;\n",
              "      border-left-color: var(--fill-color);\n",
              "      border-top-color: var(--fill-color);\n",
              "    }\n",
              "    30% {\n",
              "      border-color: transparent;\n",
              "      border-left-color: var(--fill-color);\n",
              "      border-top-color: var(--fill-color);\n",
              "      border-right-color: var(--fill-color);\n",
              "    }\n",
              "    40% {\n",
              "      border-color: transparent;\n",
              "      border-right-color: var(--fill-color);\n",
              "      border-top-color: var(--fill-color);\n",
              "    }\n",
              "    60% {\n",
              "      border-color: transparent;\n",
              "      border-right-color: var(--fill-color);\n",
              "    }\n",
              "    80% {\n",
              "      border-color: transparent;\n",
              "      border-right-color: var(--fill-color);\n",
              "      border-bottom-color: var(--fill-color);\n",
              "    }\n",
              "    90% {\n",
              "      border-color: transparent;\n",
              "      border-bottom-color: var(--fill-color);\n",
              "    }\n",
              "  }\n",
              "</style>\n",
              "\n",
              "  <script>\n",
              "    async function quickchart(key) {\n",
              "      const quickchartButtonEl =\n",
              "        document.querySelector('#' + key + ' button');\n",
              "      quickchartButtonEl.disabled = true;  // To prevent multiple clicks.\n",
              "      quickchartButtonEl.classList.add('colab-df-spinner');\n",
              "      try {\n",
              "        const charts = await google.colab.kernel.invokeFunction(\n",
              "            'suggestCharts', [key], {});\n",
              "      } catch (error) {\n",
              "        console.error('Error during call to suggestCharts:', error);\n",
              "      }\n",
              "      quickchartButtonEl.classList.remove('colab-df-spinner');\n",
              "      quickchartButtonEl.classList.add('colab-df-quickchart-complete');\n",
              "    }\n",
              "    (() => {\n",
              "      let quickchartButtonEl =\n",
              "        document.querySelector('#df-b97dc840-42f4-4065-888c-a54ce0b4c35a button');\n",
              "      quickchartButtonEl.style.display =\n",
              "        google.colab.kernel.accessAllowed ? 'block' : 'none';\n",
              "    })();\n",
              "  </script>\n",
              "</div>\n",
              "    </div>\n",
              "  </div>\n"
            ]
          },
          "metadata": {},
          "execution_count": 23
        }
      ]
    },
    {
      "cell_type": "markdown",
      "source": [
        "#Save the New data into a CSV File"
      ],
      "metadata": {
        "id": "SaU2pxL5e3BN"
      }
    },
    {
      "cell_type": "code",
      "source": [
        "df.to_csv(r\"Data.csv\", index= False)"
      ],
      "metadata": {
        "id": "g4wZVlJne2Vt"
      },
      "execution_count": 30,
      "outputs": []
    }
  ]
}